{
  "nbformat": 4,
  "nbformat_minor": 0,
  "metadata": {
    "colab": {
      "provenance": []
    },
    "kernelspec": {
      "name": "python3",
      "display_name": "Python 3"
    },
    "language_info": {
      "name": "python"
    }
  },
  "cells": [
    {
      "cell_type": "code",
      "execution_count": null,
      "metadata": {
        "id": "UX-k6OPHnsuM"
      },
      "outputs": [],
      "source": [
        "#Import relevant libraries\n",
        "import math\n",
        "import matplotlib.pyplot as plt\n",
        "import numpy as np, pandas as pd\n",
        "import seaborn as sns\n",
        "from sklearn.linear_model import LinearRegression\n",
        "from sklearn.model_selection import train_test_split\n",
        "import statsmodels.api as sm"
      ]
    },
    {
      "cell_type": "code",
      "source": [
        "from google.colab import drive\n",
        "drive.mount('/content/drive')"
      ],
      "metadata": {
        "colab": {
          "base_uri": "https://localhost:8080/"
        },
        "id": "jNFArpWBvlAt",
        "outputId": "758d9c4f-0bfe-4518-88a0-489d073d43c2"
      },
      "execution_count": null,
      "outputs": [
        {
          "output_type": "stream",
          "name": "stdout",
          "text": [
            "Drive already mounted at /content/drive; to attempt to forcibly remount, call drive.mount(\"/content/drive\", force_remount=True).\n"
          ]
        }
      ]
    },
    {
      "cell_type": "code",
      "source": [
        "#Read data from CSV file\n",
        "data = pd.read_csv('/content/drive/MyDrive/Grad School-Files/Interpretable AI/diabetes.csv')\n",
        "data.head(10)\n",
        "data.shape"
      ],
      "metadata": {
        "id": "xIyP1NI_ETy0",
        "colab": {
          "base_uri": "https://localhost:8080/"
        },
        "outputId": "ffd97d0b-05b1-4582-9757-4f23f008b312"
      },
      "execution_count": null,
      "outputs": [
        {
          "output_type": "execute_result",
          "data": {
            "text/plain": [
              "(100000, 9)"
            ]
          },
          "metadata": {},
          "execution_count": 199
        }
      ]
    },
    {
      "cell_type": "code",
      "source": [
        "#dummy code smkoing history\n",
        "\n",
        "data_smoking = pd.get_dummies(data['smoking_history'])\n",
        "data_smoking = data_smoking.drop(columns=['never', 'ever']) #Use people who have never been smokers as reference. 'ever' is a typo\n",
        "data_gender = pd.get_dummies(data['gender'])\n",
        "data_gender = data_gender.drop(columns=['Male']) #Use male as reference\n",
        "data = pd.concat([data.drop(columns=['smoking_history', 'gender']), data_gender, data_smoking], axis=1)\n",
        "data = data[data.Other != 1]\n",
        "data = data.drop(columns=['No Info', 'not current', 'Other']) # Remove Other because only 18 people had this gender classification. Remove no info and not current in smoking history, as there isn't information about this\n"
      ],
      "metadata": {
        "id": "7OjMlukMhz-8"
      },
      "execution_count": null,
      "outputs": []
    },
    {
      "cell_type": "code",
      "source": [
        "data"
      ],
      "metadata": {
        "colab": {
          "base_uri": "https://localhost:8080/",
          "height": 424
        },
        "id": "0biugJNkxHAD",
        "outputId": "81939e10-0aa1-4989-c0fe-63a3066bfaad"
      },
      "execution_count": null,
      "outputs": [
        {
          "output_type": "execute_result",
          "data": {
            "text/plain": [
              "        age  hypertension  heart_disease    bmi  HbA1c_level  \\\n",
              "0      80.0             0              1  25.19          6.6   \n",
              "1      54.0             0              0  27.32          6.6   \n",
              "2      28.0             0              0  27.32          5.7   \n",
              "3      36.0             0              0  23.45          5.0   \n",
              "4      76.0             1              1  20.14          4.8   \n",
              "...     ...           ...            ...    ...          ...   \n",
              "99995  80.0             0              0  27.32          6.2   \n",
              "99996   2.0             0              0  17.37          6.5   \n",
              "99997  66.0             0              0  27.83          5.7   \n",
              "99998  24.0             0              0  35.42          4.0   \n",
              "99999  57.0             0              0  22.43          6.6   \n",
              "\n",
              "       blood_glucose_level  diabetes  Female  current  former  \n",
              "0                      140         0       1        0       0  \n",
              "1                       80         0       1        0       0  \n",
              "2                      158         0       0        0       0  \n",
              "3                      155         0       1        1       0  \n",
              "4                      155         0       0        1       0  \n",
              "...                    ...       ...     ...      ...     ...  \n",
              "99995                   90         0       1        0       0  \n",
              "99996                  100         0       1        0       0  \n",
              "99997                  155         0       0        0       1  \n",
              "99998                  100         0       1        0       0  \n",
              "99999                   90         0       1        1       0  \n",
              "\n",
              "[99982 rows x 10 columns]"
            ],
            "text/html": [
              "\n",
              "  <div id=\"df-8ff6a0b0-4d01-491d-ac83-4c30e2b8d75d\">\n",
              "    <div class=\"colab-df-container\">\n",
              "      <div>\n",
              "<style scoped>\n",
              "    .dataframe tbody tr th:only-of-type {\n",
              "        vertical-align: middle;\n",
              "    }\n",
              "\n",
              "    .dataframe tbody tr th {\n",
              "        vertical-align: top;\n",
              "    }\n",
              "\n",
              "    .dataframe thead th {\n",
              "        text-align: right;\n",
              "    }\n",
              "</style>\n",
              "<table border=\"1\" class=\"dataframe\">\n",
              "  <thead>\n",
              "    <tr style=\"text-align: right;\">\n",
              "      <th></th>\n",
              "      <th>age</th>\n",
              "      <th>hypertension</th>\n",
              "      <th>heart_disease</th>\n",
              "      <th>bmi</th>\n",
              "      <th>HbA1c_level</th>\n",
              "      <th>blood_glucose_level</th>\n",
              "      <th>diabetes</th>\n",
              "      <th>Female</th>\n",
              "      <th>current</th>\n",
              "      <th>former</th>\n",
              "    </tr>\n",
              "  </thead>\n",
              "  <tbody>\n",
              "    <tr>\n",
              "      <th>0</th>\n",
              "      <td>80.0</td>\n",
              "      <td>0</td>\n",
              "      <td>1</td>\n",
              "      <td>25.19</td>\n",
              "      <td>6.6</td>\n",
              "      <td>140</td>\n",
              "      <td>0</td>\n",
              "      <td>1</td>\n",
              "      <td>0</td>\n",
              "      <td>0</td>\n",
              "    </tr>\n",
              "    <tr>\n",
              "      <th>1</th>\n",
              "      <td>54.0</td>\n",
              "      <td>0</td>\n",
              "      <td>0</td>\n",
              "      <td>27.32</td>\n",
              "      <td>6.6</td>\n",
              "      <td>80</td>\n",
              "      <td>0</td>\n",
              "      <td>1</td>\n",
              "      <td>0</td>\n",
              "      <td>0</td>\n",
              "    </tr>\n",
              "    <tr>\n",
              "      <th>2</th>\n",
              "      <td>28.0</td>\n",
              "      <td>0</td>\n",
              "      <td>0</td>\n",
              "      <td>27.32</td>\n",
              "      <td>5.7</td>\n",
              "      <td>158</td>\n",
              "      <td>0</td>\n",
              "      <td>0</td>\n",
              "      <td>0</td>\n",
              "      <td>0</td>\n",
              "    </tr>\n",
              "    <tr>\n",
              "      <th>3</th>\n",
              "      <td>36.0</td>\n",
              "      <td>0</td>\n",
              "      <td>0</td>\n",
              "      <td>23.45</td>\n",
              "      <td>5.0</td>\n",
              "      <td>155</td>\n",
              "      <td>0</td>\n",
              "      <td>1</td>\n",
              "      <td>1</td>\n",
              "      <td>0</td>\n",
              "    </tr>\n",
              "    <tr>\n",
              "      <th>4</th>\n",
              "      <td>76.0</td>\n",
              "      <td>1</td>\n",
              "      <td>1</td>\n",
              "      <td>20.14</td>\n",
              "      <td>4.8</td>\n",
              "      <td>155</td>\n",
              "      <td>0</td>\n",
              "      <td>0</td>\n",
              "      <td>1</td>\n",
              "      <td>0</td>\n",
              "    </tr>\n",
              "    <tr>\n",
              "      <th>...</th>\n",
              "      <td>...</td>\n",
              "      <td>...</td>\n",
              "      <td>...</td>\n",
              "      <td>...</td>\n",
              "      <td>...</td>\n",
              "      <td>...</td>\n",
              "      <td>...</td>\n",
              "      <td>...</td>\n",
              "      <td>...</td>\n",
              "      <td>...</td>\n",
              "    </tr>\n",
              "    <tr>\n",
              "      <th>99995</th>\n",
              "      <td>80.0</td>\n",
              "      <td>0</td>\n",
              "      <td>0</td>\n",
              "      <td>27.32</td>\n",
              "      <td>6.2</td>\n",
              "      <td>90</td>\n",
              "      <td>0</td>\n",
              "      <td>1</td>\n",
              "      <td>0</td>\n",
              "      <td>0</td>\n",
              "    </tr>\n",
              "    <tr>\n",
              "      <th>99996</th>\n",
              "      <td>2.0</td>\n",
              "      <td>0</td>\n",
              "      <td>0</td>\n",
              "      <td>17.37</td>\n",
              "      <td>6.5</td>\n",
              "      <td>100</td>\n",
              "      <td>0</td>\n",
              "      <td>1</td>\n",
              "      <td>0</td>\n",
              "      <td>0</td>\n",
              "    </tr>\n",
              "    <tr>\n",
              "      <th>99997</th>\n",
              "      <td>66.0</td>\n",
              "      <td>0</td>\n",
              "      <td>0</td>\n",
              "      <td>27.83</td>\n",
              "      <td>5.7</td>\n",
              "      <td>155</td>\n",
              "      <td>0</td>\n",
              "      <td>0</td>\n",
              "      <td>0</td>\n",
              "      <td>1</td>\n",
              "    </tr>\n",
              "    <tr>\n",
              "      <th>99998</th>\n",
              "      <td>24.0</td>\n",
              "      <td>0</td>\n",
              "      <td>0</td>\n",
              "      <td>35.42</td>\n",
              "      <td>4.0</td>\n",
              "      <td>100</td>\n",
              "      <td>0</td>\n",
              "      <td>1</td>\n",
              "      <td>0</td>\n",
              "      <td>0</td>\n",
              "    </tr>\n",
              "    <tr>\n",
              "      <th>99999</th>\n",
              "      <td>57.0</td>\n",
              "      <td>0</td>\n",
              "      <td>0</td>\n",
              "      <td>22.43</td>\n",
              "      <td>6.6</td>\n",
              "      <td>90</td>\n",
              "      <td>0</td>\n",
              "      <td>1</td>\n",
              "      <td>1</td>\n",
              "      <td>0</td>\n",
              "    </tr>\n",
              "  </tbody>\n",
              "</table>\n",
              "<p>99982 rows × 10 columns</p>\n",
              "</div>\n",
              "      <button class=\"colab-df-convert\" onclick=\"convertToInteractive('df-8ff6a0b0-4d01-491d-ac83-4c30e2b8d75d')\"\n",
              "              title=\"Convert this dataframe to an interactive table.\"\n",
              "              style=\"display:none;\">\n",
              "        \n",
              "  <svg xmlns=\"http://www.w3.org/2000/svg\" height=\"24px\"viewBox=\"0 0 24 24\"\n",
              "       width=\"24px\">\n",
              "    <path d=\"M0 0h24v24H0V0z\" fill=\"none\"/>\n",
              "    <path d=\"M18.56 5.44l.94 2.06.94-2.06 2.06-.94-2.06-.94-.94-2.06-.94 2.06-2.06.94zm-11 1L8.5 8.5l.94-2.06 2.06-.94-2.06-.94L8.5 2.5l-.94 2.06-2.06.94zm10 10l.94 2.06.94-2.06 2.06-.94-2.06-.94-.94-2.06-.94 2.06-2.06.94z\"/><path d=\"M17.41 7.96l-1.37-1.37c-.4-.4-.92-.59-1.43-.59-.52 0-1.04.2-1.43.59L10.3 9.45l-7.72 7.72c-.78.78-.78 2.05 0 2.83L4 21.41c.39.39.9.59 1.41.59.51 0 1.02-.2 1.41-.59l7.78-7.78 2.81-2.81c.8-.78.8-2.07 0-2.86zM5.41 20L4 18.59l7.72-7.72 1.47 1.35L5.41 20z\"/>\n",
              "  </svg>\n",
              "      </button>\n",
              "      \n",
              "  <style>\n",
              "    .colab-df-container {\n",
              "      display:flex;\n",
              "      flex-wrap:wrap;\n",
              "      gap: 12px;\n",
              "    }\n",
              "\n",
              "    .colab-df-convert {\n",
              "      background-color: #E8F0FE;\n",
              "      border: none;\n",
              "      border-radius: 50%;\n",
              "      cursor: pointer;\n",
              "      display: none;\n",
              "      fill: #1967D2;\n",
              "      height: 32px;\n",
              "      padding: 0 0 0 0;\n",
              "      width: 32px;\n",
              "    }\n",
              "\n",
              "    .colab-df-convert:hover {\n",
              "      background-color: #E2EBFA;\n",
              "      box-shadow: 0px 1px 2px rgba(60, 64, 67, 0.3), 0px 1px 3px 1px rgba(60, 64, 67, 0.15);\n",
              "      fill: #174EA6;\n",
              "    }\n",
              "\n",
              "    [theme=dark] .colab-df-convert {\n",
              "      background-color: #3B4455;\n",
              "      fill: #D2E3FC;\n",
              "    }\n",
              "\n",
              "    [theme=dark] .colab-df-convert:hover {\n",
              "      background-color: #434B5C;\n",
              "      box-shadow: 0px 1px 3px 1px rgba(0, 0, 0, 0.15);\n",
              "      filter: drop-shadow(0px 1px 2px rgba(0, 0, 0, 0.3));\n",
              "      fill: #FFFFFF;\n",
              "    }\n",
              "  </style>\n",
              "\n",
              "      <script>\n",
              "        const buttonEl =\n",
              "          document.querySelector('#df-8ff6a0b0-4d01-491d-ac83-4c30e2b8d75d button.colab-df-convert');\n",
              "        buttonEl.style.display =\n",
              "          google.colab.kernel.accessAllowed ? 'block' : 'none';\n",
              "\n",
              "        async function convertToInteractive(key) {\n",
              "          const element = document.querySelector('#df-8ff6a0b0-4d01-491d-ac83-4c30e2b8d75d');\n",
              "          const dataTable =\n",
              "            await google.colab.kernel.invokeFunction('convertToInteractive',\n",
              "                                                     [key], {});\n",
              "          if (!dataTable) return;\n",
              "\n",
              "          const docLinkHtml = 'Like what you see? Visit the ' +\n",
              "            '<a target=\"_blank\" href=https://colab.research.google.com/notebooks/data_table.ipynb>data table notebook</a>'\n",
              "            + ' to learn more about interactive tables.';\n",
              "          element.innerHTML = '';\n",
              "          dataTable['output_type'] = 'display_data';\n",
              "          await google.colab.output.renderOutput(dataTable, element);\n",
              "          const docLink = document.createElement('div');\n",
              "          docLink.innerHTML = docLinkHtml;\n",
              "          element.appendChild(docLink);\n",
              "        }\n",
              "      </script>\n",
              "    </div>\n",
              "  </div>\n",
              "  "
            ]
          },
          "metadata": {},
          "execution_count": 201
        }
      ]
    },
    {
      "cell_type": "code",
      "source": [
        "#Get information about the columns\n",
        "print(data.info())\n",
        "\n",
        "#Check for null values\n",
        "print('Are there any null values?: ', data.isnull().values.any())\n",
        "print('Are there duplicate values?: ', data.duplicated())\n",
        "print('Sum of null values: ', data.isnull().sum())\n",
        "print('Sum of duplicated values :', data.duplicated().sum())\n",
        "\n",
        "#Get descriptive statistics\n",
        "print(data.describe())"
      ],
      "metadata": {
        "colab": {
          "base_uri": "https://localhost:8080/"
        },
        "id": "ir9QRdZ09Uwt",
        "outputId": "4db67f15-5558-428a-be09-490c3d79d25b"
      },
      "execution_count": null,
      "outputs": [
        {
          "output_type": "stream",
          "name": "stdout",
          "text": [
            "<class 'pandas.core.frame.DataFrame'>\n",
            "Int64Index: 99982 entries, 0 to 99999\n",
            "Data columns (total 10 columns):\n",
            " #   Column               Non-Null Count  Dtype  \n",
            "---  ------               --------------  -----  \n",
            " 0   age                  99982 non-null  float64\n",
            " 1   hypertension         99982 non-null  int64  \n",
            " 2   heart_disease        99982 non-null  int64  \n",
            " 3   bmi                  99982 non-null  float64\n",
            " 4   HbA1c_level          99982 non-null  float64\n",
            " 5   blood_glucose_level  99982 non-null  int64  \n",
            " 6   diabetes             99982 non-null  int64  \n",
            " 7   Female               99982 non-null  uint8  \n",
            " 8   current              99982 non-null  uint8  \n",
            " 9   former               99982 non-null  uint8  \n",
            "dtypes: float64(3), int64(4), uint8(3)\n",
            "memory usage: 6.4 MB\n",
            "None\n",
            "Are there any null values?:  False\n",
            "Are there duplicate values?:  0        False\n",
            "1        False\n",
            "2        False\n",
            "3        False\n",
            "4        False\n",
            "         ...  \n",
            "99995     True\n",
            "99996    False\n",
            "99997    False\n",
            "99998    False\n",
            "99999    False\n",
            "Length: 99982, dtype: bool\n",
            "Sum of null values:  age                    0\n",
            "hypertension           0\n",
            "heart_disease          0\n",
            "bmi                    0\n",
            "HbA1c_level            0\n",
            "blood_glucose_level    0\n",
            "diabetes               0\n",
            "Female                 0\n",
            "current                0\n",
            "former                 0\n",
            "dtype: int64\n",
            "Sum of duplicated values : 7010\n",
            "                age  hypertension  heart_disease           bmi   HbA1c_level  \\\n",
            "count  99982.000000  99982.000000   99982.000000  99982.000000  99982.000000   \n",
            "mean      41.888076      0.074863       0.039427     27.320757      5.527529   \n",
            "std       22.517206      0.263172       0.194610      6.636853      1.070665   \n",
            "min        0.080000      0.000000       0.000000     10.010000      3.500000   \n",
            "25%       24.000000      0.000000       0.000000     23.630000      4.800000   \n",
            "50%       43.000000      0.000000       0.000000     27.320000      5.800000   \n",
            "75%       60.000000      0.000000       0.000000     29.580000      6.200000   \n",
            "max       80.000000      1.000000       1.000000     95.690000      9.000000   \n",
            "\n",
            "       blood_glucose_level      diabetes        Female       current  \\\n",
            "count         99982.000000  99982.000000  99982.000000  99982.000000   \n",
            "mean            138.057810      0.085015      0.585625      0.092877   \n",
            "std              40.709469      0.278906      0.492616      0.290261   \n",
            "min              80.000000      0.000000      0.000000      0.000000   \n",
            "25%             100.000000      0.000000      0.000000      0.000000   \n",
            "50%             140.000000      0.000000      1.000000      0.000000   \n",
            "75%             159.000000      0.000000      1.000000      0.000000   \n",
            "max             300.000000      1.000000      1.000000      1.000000   \n",
            "\n",
            "             former  \n",
            "count  99982.000000  \n",
            "mean       0.093537  \n",
            "std        0.291185  \n",
            "min        0.000000  \n",
            "25%        0.000000  \n",
            "50%        0.000000  \n",
            "75%        0.000000  \n",
            "max        1.000000  \n"
          ]
        }
      ]
    },
    {
      "cell_type": "markdown",
      "source": [
        "From the above descriptive statistics, note that the average individual in this dataset is overweight (average bmi > 25.0), very close to being prediabetic and/or has diabetes (mean HbA1C levels < 5.7, where levels above 5.7 indicates prediabeted. Mean blood glucose levels > 126mg/dL indicates diabetes). Note that the dataset does not mention fasting blood sugar levels or not. However, blood sugar levels are usually fasting levels, so we assume that's the case here too. Variables such as hypertension, heart disease and diabetes are actually categorical variables as they have 0 and 1 values."
      ],
      "metadata": {
        "id": "Yu-4bnjQbzUD"
      }
    },
    {
      "cell_type": "code",
      "source": [
        "#Plot histograms of continuous variables to visualize the distribution\n",
        "fig, ax = plt.subplots(2, 2)\n",
        "cols= ['age', 'bmi', 'HbA1c_level', 'blood_glucose_level']\n",
        "m=0\n",
        "for i in range(2):\n",
        "    for j in range(2):\n",
        "        data.hist(column = cols[m], ax=ax[i,j], figsize=(15, 12))\n",
        "        m+=1"
      ],
      "metadata": {
        "colab": {
          "base_uri": "https://localhost:8080/",
          "height": 452
        },
        "id": "dp3uMQGtd75N",
        "outputId": "660ce74e-154e-4fda-937d-6b07512143ec"
      },
      "execution_count": null,
      "outputs": [
        {
          "output_type": "display_data",
          "data": {
            "text/plain": [
              "<Figure size 640x480 with 4 Axes>"
            ],
            "image/png": "[encoded data removed]"
          },
          "metadata": {}
        }
      ]
    },
    {
      "cell_type": "code",
      "source": [
        "#Plot categorical variables\n",
        "cols= ['hypertension', 'heart_disease', 'diabetes']\n",
        "m=0\n",
        "for i in range(3):\n",
        "        data.hist(column = cols[m], figsize=(2, 2))\n",
        "        m+=1"
      ],
      "metadata": {
        "colab": {
          "base_uri": "https://localhost:8080/",
          "height": 677
        },
        "id": "xCbt5a0Ff8nH",
        "outputId": "788cc5b3-75ae-4bb1-c85f-b7d5f40193ed"
      },
      "execution_count": null,
      "outputs": [
        {
          "output_type": "display_data",
          "data": {
            "text/plain": [
              "<Figure size 200x200 with 1 Axes>"
            ],
            "image/png": "[encoded data removed]"
          },
          "metadata": {}
        },
        {
          "output_type": "display_data",
          "data": {
            "text/plain": [
              "<Figure size 200x200 with 1 Axes>"
            ],
            "image/png": "[encoded data removed]"
          },
          "metadata": {}
        },
        {
          "output_type": "display_data",
          "data": {
            "text/plain": [
              "<Figure size 200x200 with 1 Axes>"
            ],
            "image/png": "[encoded data removed]"
          },
          "metadata": {}
        }
      ]
    },
    {
      "cell_type": "markdown",
      "source": [
        "From the above graphs it is evident that the dataset is biased towards those who do not have hypertension, heat disease or diabetes. This needs to be considered when doing any kind of classification"
      ],
      "metadata": {
        "id": "b_8vKKmNgut3"
      }
    },
    {
      "cell_type": "code",
      "source": [
        "#Correlation plot\n",
        "sns.heatmap(data.corr())"
      ],
      "metadata": {
        "colab": {
          "base_uri": "https://localhost:8080/",
          "height": 577
        },
        "id": "qBrrRf_SjJmv",
        "outputId": "f83f36a0-65c9-4e1e-b5cc-a1e7d77a6abb"
      },
      "execution_count": null,
      "outputs": [
        {
          "output_type": "execute_result",
          "data": {
            "text/plain": [
              "<Axes: >"
            ]
          },
          "metadata": {},
          "execution_count": 205
        },
        {
          "output_type": "display_data",
          "data": {
            "text/plain": [
              "<Figure size 640x480 with 2 Axes>"
            ],
            "image/png": "[encoded data removed]"
          },
          "metadata": {}
        }
      ]
    },
    {
      "cell_type": "code",
      "source": [
        "data.corr()"
      ],
      "metadata": {
        "colab": {
          "base_uri": "https://localhost:8080/",
          "height": 363
        },
        "id": "_1D2QP_Ajiu9",
        "outputId": "2313e236-f437-41c4-96d2-7f74d9dceb34"
      },
      "execution_count": null,
      "outputs": [
        {
          "output_type": "execute_result",
          "data": {
            "text/plain": [
              "                          age  hypertension  heart_disease       bmi  \\\n",
              "age                  1.000000      0.251163       0.233352  0.337378   \n",
              "hypertension         0.251163      1.000000       0.121253  0.147679   \n",
              "heart_disease        0.233352      0.121253       1.000000  0.061203   \n",
              "bmi                  0.337378      0.147679       0.061203  1.000000   \n",
              "HbA1c_level          0.101343      0.080941       0.067591  0.083017   \n",
              "blood_glucose_level  0.110679      0.084436       0.070071  0.091310   \n",
              "diabetes             0.257999      0.197811       0.171718  0.214377   \n",
              "Female               0.030369     -0.014381      -0.077886  0.023023   \n",
              "current              0.030917      0.017914       0.007592  0.053623   \n",
              "former               0.216468      0.083386       0.095184  0.111322   \n",
              "\n",
              "                     HbA1c_level  blood_glucose_level  diabetes    Female  \\\n",
              "age                     0.101343             0.110679  0.257999  0.030369   \n",
              "hypertension            0.080941             0.084436  0.197811 -0.014381   \n",
              "heart_disease           0.067591             0.070071  0.171718 -0.077886   \n",
              "bmi                     0.083017             0.091310  0.214377  0.023023   \n",
              "HbA1c_level             1.000000             0.166831  0.400696 -0.020044   \n",
              "blood_glucose_level     0.166831             1.000000  0.419587 -0.017196   \n",
              "diabetes                0.400696             0.419587  1.000000 -0.037623   \n",
              "Female                 -0.020044            -0.017196 -0.037623  1.000000   \n",
              "current                 0.006117             0.012450  0.019588 -0.026589   \n",
              "former                  0.037303             0.040692  0.097901 -0.049002   \n",
              "\n",
              "                      current    former  \n",
              "age                  0.030917  0.216468  \n",
              "hypertension         0.017914  0.083386  \n",
              "heart_disease        0.007592  0.095184  \n",
              "bmi                  0.053623  0.111322  \n",
              "HbA1c_level          0.006117  0.037303  \n",
              "blood_glucose_level  0.012450  0.040692  \n",
              "diabetes             0.019588  0.097901  \n",
              "Female              -0.026589 -0.049002  \n",
              "current              1.000000 -0.102787  \n",
              "former              -0.102787  1.000000  "
            ],
            "text/html": [
              "\n",
              "  <div id=\"df-9f599624-b662-4f9a-a663-a7eb1af0ba7d\">\n",
              "    <div class=\"colab-df-container\">\n",
              "      <div>\n",
              "<style scoped>\n",
              "    .dataframe tbody tr th:only-of-type {\n",
              "        vertical-align: middle;\n",
              "    }\n",
              "\n",
              "    .dataframe tbody tr th {\n",
              "        vertical-align: top;\n",
              "    }\n",
              "\n",
              "    .dataframe thead th {\n",
              "        text-align: right;\n",
              "    }\n",
              "</style>\n",
              "<table border=\"1\" class=\"dataframe\">\n",
              "  <thead>\n",
              "    <tr style=\"text-align: right;\">\n",
              "      <th></th>\n",
              "      <th>age</th>\n",
              "      <th>hypertension</th>\n",
              "      <th>heart_disease</th>\n",
              "      <th>bmi</th>\n",
              "      <th>HbA1c_level</th>\n",
              "      <th>blood_glucose_level</th>\n",
              "      <th>diabetes</th>\n",
              "      <th>Female</th>\n",
              "      <th>current</th>\n",
              "      <th>former</th>\n",
              "    </tr>\n",
              "  </thead>\n",
              "  <tbody>\n",
              "    <tr>\n",
              "      <th>age</th>\n",
              "      <td>1.000000</td>\n",
              "      <td>0.251163</td>\n",
              "      <td>0.233352</td>\n",
              "      <td>0.337378</td>\n",
              "      <td>0.101343</td>\n",
              "      <td>0.110679</td>\n",
              "      <td>0.257999</td>\n",
              "      <td>0.030369</td>\n",
              "      <td>0.030917</td>\n",
              "      <td>0.216468</td>\n",
              "    </tr>\n",
              "    <tr>\n",
              "      <th>hypertension</th>\n",
              "      <td>0.251163</td>\n",
              "      <td>1.000000</td>\n",
              "      <td>0.121253</td>\n",
              "      <td>0.147679</td>\n",
              "      <td>0.080941</td>\n",
              "      <td>0.084436</td>\n",
              "      <td>0.197811</td>\n",
              "      <td>-0.014381</td>\n",
              "      <td>0.017914</td>\n",
              "      <td>0.083386</td>\n",
              "    </tr>\n",
              "    <tr>\n",
              "      <th>heart_disease</th>\n",
              "      <td>0.233352</td>\n",
              "      <td>0.121253</td>\n",
              "      <td>1.000000</td>\n",
              "      <td>0.061203</td>\n",
              "      <td>0.067591</td>\n",
              "      <td>0.070071</td>\n",
              "      <td>0.171718</td>\n",
              "      <td>-0.077886</td>\n",
              "      <td>0.007592</td>\n",
              "      <td>0.095184</td>\n",
              "    </tr>\n",
              "    <tr>\n",
              "      <th>bmi</th>\n",
              "      <td>0.337378</td>\n",
              "      <td>0.147679</td>\n",
              "      <td>0.061203</td>\n",
              "      <td>1.000000</td>\n",
              "      <td>0.083017</td>\n",
              "      <td>0.091310</td>\n",
              "      <td>0.214377</td>\n",
              "      <td>0.023023</td>\n",
              "      <td>0.053623</td>\n",
              "      <td>0.111322</td>\n",
              "    </tr>\n",
              "    <tr>\n",
              "      <th>HbA1c_level</th>\n",
              "      <td>0.101343</td>\n",
              "      <td>0.080941</td>\n",
              "      <td>0.067591</td>\n",
              "      <td>0.083017</td>\n",
              "      <td>1.000000</td>\n",
              "      <td>0.166831</td>\n",
              "      <td>0.400696</td>\n",
              "      <td>-0.020044</td>\n",
              "      <td>0.006117</td>\n",
              "      <td>0.037303</td>\n",
              "    </tr>\n",
              "    <tr>\n",
              "      <th>blood_glucose_level</th>\n",
              "      <td>0.110679</td>\n",
              "      <td>0.084436</td>\n",
              "      <td>0.070071</td>\n",
              "      <td>0.091310</td>\n",
              "      <td>0.166831</td>\n",
              "      <td>1.000000</td>\n",
              "      <td>0.419587</td>\n",
              "      <td>-0.017196</td>\n",
              "      <td>0.012450</td>\n",
              "      <td>0.040692</td>\n",
              "    </tr>\n",
              "    <tr>\n",
              "      <th>diabetes</th>\n",
              "      <td>0.257999</td>\n",
              "      <td>0.197811</td>\n",
              "      <td>0.171718</td>\n",
              "      <td>0.214377</td>\n",
              "      <td>0.400696</td>\n",
              "      <td>0.419587</td>\n",
              "      <td>1.000000</td>\n",
              "      <td>-0.037623</td>\n",
              "      <td>0.019588</td>\n",
              "      <td>0.097901</td>\n",
              "    </tr>\n",
              "    <tr>\n",
              "      <th>Female</th>\n",
              "      <td>0.030369</td>\n",
              "      <td>-0.014381</td>\n",
              "      <td>-0.077886</td>\n",
              "      <td>0.023023</td>\n",
              "      <td>-0.020044</td>\n",
              "      <td>-0.017196</td>\n",
              "      <td>-0.037623</td>\n",
              "      <td>1.000000</td>\n",
              "      <td>-0.026589</td>\n",
              "      <td>-0.049002</td>\n",
              "    </tr>\n",
              "    <tr>\n",
              "      <th>current</th>\n",
              "      <td>0.030917</td>\n",
              "      <td>0.017914</td>\n",
              "      <td>0.007592</td>\n",
              "      <td>0.053623</td>\n",
              "      <td>0.006117</td>\n",
              "      <td>0.012450</td>\n",
              "      <td>0.019588</td>\n",
              "      <td>-0.026589</td>\n",
              "      <td>1.000000</td>\n",
              "      <td>-0.102787</td>\n",
              "    </tr>\n",
              "    <tr>\n",
              "      <th>former</th>\n",
              "      <td>0.216468</td>\n",
              "      <td>0.083386</td>\n",
              "      <td>0.095184</td>\n",
              "      <td>0.111322</td>\n",
              "      <td>0.037303</td>\n",
              "      <td>0.040692</td>\n",
              "      <td>0.097901</td>\n",
              "      <td>-0.049002</td>\n",
              "      <td>-0.102787</td>\n",
              "      <td>1.000000</td>\n",
              "    </tr>\n",
              "  </tbody>\n",
              "</table>\n",
              "</div>\n",
              "      <button class=\"colab-df-convert\" onclick=\"convertToInteractive('df-9f599624-b662-4f9a-a663-a7eb1af0ba7d')\"\n",
              "              title=\"Convert this dataframe to an interactive table.\"\n",
              "              style=\"display:none;\">\n",
              "        \n",
              "  <svg xmlns=\"http://www.w3.org/2000/svg\" height=\"24px\"viewBox=\"0 0 24 24\"\n",
              "       width=\"24px\">\n",
              "    <path d=\"M0 0h24v24H0V0z\" fill=\"none\"/>\n",
              "    <path d=\"M18.56 5.44l.94 2.06.94-2.06 2.06-.94-2.06-.94-.94-2.06-.94 2.06-2.06.94zm-11 1L8.5 8.5l.94-2.06 2.06-.94-2.06-.94L8.5 2.5l-.94 2.06-2.06.94zm10 10l.94 2.06.94-2.06 2.06-.94-2.06-.94-.94-2.06-.94 2.06-2.06.94z\"/><path d=\"M17.41 7.96l-1.37-1.37c-.4-.4-.92-.59-1.43-.59-.52 0-1.04.2-1.43.59L10.3 9.45l-7.72 7.72c-.78.78-.78 2.05 0 2.83L4 21.41c.39.39.9.59 1.41.59.51 0 1.02-.2 1.41-.59l7.78-7.78 2.81-2.81c.8-.78.8-2.07 0-2.86zM5.41 20L4 18.59l7.72-7.72 1.47 1.35L5.41 20z\"/>\n",
              "  </svg>\n",
              "      </button>\n",
              "      \n",
              "  <style>\n",
              "    .colab-df-container {\n",
              "      display:flex;\n",
              "      flex-wrap:wrap;\n",
              "      gap: 12px;\n",
              "    }\n",
              "\n",
              "    .colab-df-convert {\n",
              "      background-color: #E8F0FE;\n",
              "      border: none;\n",
              "      border-radius: 50%;\n",
              "      cursor: pointer;\n",
              "      display: none;\n",
              "      fill: #1967D2;\n",
              "      height: 32px;\n",
              "      padding: 0 0 0 0;\n",
              "      width: 32px;\n",
              "    }\n",
              "\n",
              "    .colab-df-convert:hover {\n",
              "      background-color: #E2EBFA;\n",
              "      box-shadow: 0px 1px 2px rgba(60, 64, 67, 0.3), 0px 1px 3px 1px rgba(60, 64, 67, 0.15);\n",
              "      fill: #174EA6;\n",
              "    }\n",
              "\n",
              "    [theme=dark] .colab-df-convert {\n",
              "      background-color: #3B4455;\n",
              "      fill: #D2E3FC;\n",
              "    }\n",
              "\n",
              "    [theme=dark] .colab-df-convert:hover {\n",
              "      background-color: #434B5C;\n",
              "      box-shadow: 0px 1px 3px 1px rgba(0, 0, 0, 0.15);\n",
              "      filter: drop-shadow(0px 1px 2px rgba(0, 0, 0, 0.3));\n",
              "      fill: #FFFFFF;\n",
              "    }\n",
              "  </style>\n",
              "\n",
              "      <script>\n",
              "        const buttonEl =\n",
              "          document.querySelector('#df-9f599624-b662-4f9a-a663-a7eb1af0ba7d button.colab-df-convert');\n",
              "        buttonEl.style.display =\n",
              "          google.colab.kernel.accessAllowed ? 'block' : 'none';\n",
              "\n",
              "        async function convertToInteractive(key) {\n",
              "          const element = document.querySelector('#df-9f599624-b662-4f9a-a663-a7eb1af0ba7d');\n",
              "          const dataTable =\n",
              "            await google.colab.kernel.invokeFunction('convertToInteractive',\n",
              "                                                     [key], {});\n",
              "          if (!dataTable) return;\n",
              "\n",
              "          const docLinkHtml = 'Like what you see? Visit the ' +\n",
              "            '<a target=\"_blank\" href=https://colab.research.google.com/notebooks/data_table.ipynb>data table notebook</a>'\n",
              "            + ' to learn more about interactive tables.';\n",
              "          element.innerHTML = '';\n",
              "          dataTable['output_type'] = 'display_data';\n",
              "          await google.colab.output.renderOutput(dataTable, element);\n",
              "          const docLink = document.createElement('div');\n",
              "          docLink.innerHTML = docLinkHtml;\n",
              "          element.appendChild(docLink);\n",
              "        }\n",
              "      </script>\n",
              "    </div>\n",
              "  </div>\n",
              "  "
            ]
          },
          "metadata": {},
          "execution_count": 206
        }
      ]
    },
    {
      "cell_type": "markdown",
      "source": [
        "From the above matrix, we see that there is the highest correlation occurs between diabetes and blood sugar levels and HvA1C levels, which is unsurprising. Diabetes is somewhat related to hypertension, heart disease, age and bmi and not so much on smoking history"
      ],
      "metadata": {
        "id": "OUQ1XvKGjeMJ"
      }
    },
    {
      "cell_type": "code",
      "source": [
        "X = data.drop(columns=['diabetes'])\n",
        "y = data['diabetes']\n",
        "\n",
        "#Split data into training (66%) and test (33%)\n",
        "X_train, X_test, y_train, y_test = train_test_split(X, y, test_size=0.33, random_state=42)"
      ],
      "metadata": {
        "id": "gL_7E_eHocuM"
      },
      "execution_count": null,
      "outputs": []
    },
    {
      "cell_type": "markdown",
      "source": [
        "# With L2 Regularization (default logistic regression in sklearn)\n",
        "\n"
      ],
      "metadata": {
        "id": "oCuL-7ZI7BND"
      }
    },
    {
      "cell_type": "code",
      "source": [
        "from sklearn.linear_model import LogisticRegression\n",
        "\n",
        "# define the model\n",
        "model = LogisticRegression()\n",
        "# fit the model\n",
        "model.fit(X_train, y_train)\n",
        "# get importance\n",
        "importance = model.coef_[0]\n",
        "print(importance)\n",
        "print('Odds ratio: ', np.exp(importance))"
      ],
      "metadata": {
        "colab": {
          "base_uri": "https://localhost:8080/"
        },
        "id": "9WKdg8uWt9e7",
        "outputId": "d5f4fa8b-1d2a-43da-c8ac-5e0385d04c44"
      },
      "execution_count": null,
      "outputs": [
        {
          "output_type": "stream",
          "name": "stdout",
          "text": [
            "[ 0.04812975 -0.0783736   1.70624917  0.09540517  2.51516019  0.03340511\n",
            "  0.02611799  0.23456043  0.10354566]\n",
            "Odds ratio:  [ 1.04930679  0.92461892  5.50826211  1.1001045  12.36858993  1.03396932\n",
            "  1.02646206  1.26435287  1.10909643]\n"
          ]
        },
        {
          "output_type": "stream",
          "name": "stderr",
          "text": [
            "/usr/local/lib/python3.10/dist-packages/sklearn/linear_model/_logistic.py:458: ConvergenceWarning: lbfgs failed to converge (status=1):\n",
            "STOP: TOTAL NO. of ITERATIONS REACHED LIMIT.\n",
            "\n",
            "Increase the number of iterations (max_iter) or scale the data as shown in:\n",
            "    https://scikit-learn.org/stable/modules/preprocessing.html\n",
            "Please also refer to the documentation for alternative solver options:\n",
            "    https://scikit-learn.org/stable/modules/linear_model.html#logistic-regression\n",
            "  n_iter_i = _check_optimize_result(\n"
          ]
        }
      ]
    },
    {
      "cell_type": "code",
      "source": [
        "#Plot the weights\n",
        "coef_df = pd.DataFrame({'coef': importance,\n",
        "                        'varname': X_train.columns\n",
        "                       })\n",
        "\n",
        "coef_df.plot(y='coef', x='varname', kind='bar', color='none', legend=False, figsize=(8,5))\n",
        "plt.bar(coef_df['varname'], coef_df['coef'], color='blue')\n",
        "plt.axhline(y=0, linestyle='--', color='black', linewidth=1)\n",
        "plt.title(\"Coefficients of Logistic Regression\")\n",
        "plt.show()"
      ],
      "metadata": {
        "colab": {
          "base_uri": "https://localhost:8080/",
          "height": 612
        },
        "id": "KKeK8QwVvSlA",
        "outputId": "e18bfe5a-1441-4f1c-8f5e-e7702e080fb2"
      },
      "execution_count": null,
      "outputs": [
        {
          "output_type": "display_data",
          "data": {
            "text/plain": [
              "<Figure size 800x500 with 1 Axes>"
            ],
            "image/png": "[encoded data removed]"
          },
          "metadata": {}
        }
      ]
    },
    {
      "cell_type": "code",
      "source": [
        "y_pred = model.predict(X_test)\n",
        "print('Model accuracy: ', model.score(X_test, y_test)*100)"
      ],
      "metadata": {
        "colab": {
          "base_uri": "https://localhost:8080/"
        },
        "id": "0NK8rHSUxWLY",
        "outputId": "5b7dab78-a891-4adb-e2a5-54ad63220ced"
      },
      "execution_count": null,
      "outputs": [
        {
          "output_type": "stream",
          "name": "stdout",
          "text": [
            "Model accuracy:  95.82664040006061\n"
          ]
        }
      ]
    },
    {
      "cell_type": "markdown",
      "source": [
        "# With Weak Regularization\n",
        "\n"
      ],
      "metadata": {
        "id": "zq0h-W9w7Ouv"
      }
    },
    {
      "cell_type": "code",
      "source": [
        "from sklearn.linear_model import LogisticRegression\n",
        "\n",
        "# define the model\n",
        "model = LogisticRegression(C=1e9)\n",
        "# fit the model\n",
        "model.fit(X_train, y_train)\n",
        "# get importance\n",
        "importance = model.coef_[0]\n",
        "print(importance)\n",
        "print('Odds ratio: ', np.exp(importance))"
      ],
      "metadata": {
        "colab": {
          "base_uri": "https://localhost:8080/"
        },
        "outputId": "abfd831b-110c-43ae-8a8e-070822fe00f2",
        "id": "M4C4PKRl7Ouv"
      },
      "execution_count": null,
      "outputs": [
        {
          "output_type": "stream",
          "name": "stdout",
          "text": [
            "[ 0.03920464  0.33357543  2.26010306  0.09478147  2.20151189  0.03405857\n",
            " -0.39581384  0.10759711  0.32969711]\n",
            "Odds ratio:  [1.03998328 1.39595034 9.58407683 1.09941857 9.03866866 1.0346452\n",
            " 0.67313199 1.113599   1.39054689]\n"
          ]
        },
        {
          "output_type": "stream",
          "name": "stderr",
          "text": [
            "/usr/local/lib/python3.10/dist-packages/sklearn/linear_model/_logistic.py:458: ConvergenceWarning: lbfgs failed to converge (status=1):\n",
            "STOP: TOTAL NO. of ITERATIONS REACHED LIMIT.\n",
            "\n",
            "Increase the number of iterations (max_iter) or scale the data as shown in:\n",
            "    https://scikit-learn.org/stable/modules/preprocessing.html\n",
            "Please also refer to the documentation for alternative solver options:\n",
            "    https://scikit-learn.org/stable/modules/linear_model.html#logistic-regression\n",
            "  n_iter_i = _check_optimize_result(\n"
          ]
        }
      ]
    },
    {
      "cell_type": "code",
      "source": [
        "#Plot the weights\n",
        "coef_df = pd.DataFrame({'coef': importance,\n",
        "                        'varname': X_train.columns\n",
        "                       })\n",
        "\n",
        "coef_df.plot(y='coef', x='varname', kind='bar', color='none', legend=False, figsize=(8,5))\n",
        "plt.bar(coef_df['varname'], coef_df['coef'], color='blue')\n",
        "plt.axhline(y=0, linestyle='--', color='black', linewidth=1)\n",
        "plt.title(\"Coefficients of Logistic Regression\")\n",
        "plt.show()"
      ],
      "metadata": {
        "colab": {
          "base_uri": "https://localhost:8080/",
          "height": 612
        },
        "outputId": "229f7282-70a5-44e3-eb2d-79802617022a",
        "id": "yuKk2PIv7Ouv"
      },
      "execution_count": null,
      "outputs": [
        {
          "output_type": "display_data",
          "data": {
            "text/plain": [
              "<Figure size 800x500 with 1 Axes>"
            ],
            "image/png": "[encoded data removed]"
          },
          "metadata": {}
        }
      ]
    },
    {
      "cell_type": "code",
      "source": [
        "y_pred = model.predict(X_test)\n",
        "print('Model accuracy: ', model.score(X_test, y_test)*100)"
      ],
      "metadata": {
        "colab": {
          "base_uri": "https://localhost:8080/"
        },
        "outputId": "71206df3-8414-4053-92ae-b574f3206c8d",
        "id": "3f95GrAl7Ouw"
      },
      "execution_count": null,
      "outputs": [
        {
          "output_type": "stream",
          "name": "stdout",
          "text": [
            "Model accuracy:  95.77814820427338\n"
          ]
        }
      ]
    }
  ]
}